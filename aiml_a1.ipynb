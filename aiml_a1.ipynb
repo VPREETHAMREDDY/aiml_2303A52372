{
  "nbformat": 4,
  "nbformat_minor": 0,
  "metadata": {
    "colab": {
      "provenance": [],
      "include_colab_link": true
    },
    "kernelspec": {
      "name": "python3",
      "display_name": "Python 3"
    },
    "language_info": {
      "name": "python"
    }
  },
  "cells": [
    {
      "cell_type": "markdown",
      "metadata": {
        "id": "view-in-github",
        "colab_type": "text"
      },
      "source": [
        "<a href=\"https://colab.research.google.com/github/VPREETHAMREDDY/aiml_2303A52372/blob/main/aiml_a1.ipynb\" target=\"_parent\"><img src=\"https://colab.research.google.com/assets/colab-badge.svg\" alt=\"Open In Colab\"/></a>"
      ]
    },
    {
      "cell_type": "markdown",
      "source": [
        "**Part 1 – Implement Basic Data Structures using Numpy, Pandas**"
      ],
      "metadata": {
        "id": "iGMpl-zK-JzJ"
      }
    },
    {
      "cell_type": "code",
      "execution_count": null,
      "metadata": {
        "colab": {
          "base_uri": "https://localhost:8080/"
        },
        "id": "koTurs7u9NI4",
        "outputId": "88a47720-eaf9-4fdf-c0a4-63a1415c9f36"
      },
      "outputs": [
        {
          "output_type": "stream",
          "name": "stdout",
          "text": [
            "[1, 2, 3, 4, 5]\n",
            "[6, 7, 8, 9, 10]\n",
            "<class 'list'>\n",
            "<class 'list'>\n",
            "('apple', 'banana', 'orange')\n"
          ]
        }
      ],
      "source": [
        "import numpy as np\n",
        "#create a list\n",
        "list1=[1,2,3,4,5]\n",
        "list2=[6,7,8,9,10]\n",
        "print(list1)\n",
        "print(list2)\n",
        "print(type(list1))\n",
        "print(type(list2))\n",
        "l1=(\"apple\",\"banana\",\"orange\")\n",
        "print(l1)\n",
        "\n"
      ]
    },
    {
      "cell_type": "code",
      "source": [
        "import numpy as np\n",
        "#create an array\n",
        "l1=[1,3,5,7,9]\n",
        "l2=[2,4,6,8,10]\n",
        "arr1=np.array(l1)\n",
        "arr2=np.array(l2)\n",
        "print(arr1)\n",
        "print(arr2)\n",
        "print(type(arr1))\n",
        "print(type(arr2))"
      ],
      "metadata": {
        "colab": {
          "base_uri": "https://localhost:8080/"
        },
        "id": "H94ki35uBVSR",
        "outputId": "a7481ac4-39c6-4ac9-843e-7a686379e933"
      },
      "execution_count": null,
      "outputs": [
        {
          "output_type": "stream",
          "name": "stdout",
          "text": [
            "[1 3 5 7 9]\n",
            "[ 2  4  6  8 10]\n",
            "<class 'numpy.ndarray'>\n",
            "<class 'numpy.ndarray'>\n"
          ]
        }
      ]
    },
    {
      "cell_type": "code",
      "source": [
        "str_list=\"Welcome to AIML lab\"\n",
        "age=18\n",
        "pi=3.14\n",
        "c_num=5j+12\n",
        "my_list=[\"A\",\"B\",\"C\",\"D\"]\n",
        "my_tuple=(\"A\",\"B\",\"C\",\"D\")\n",
        "my_dict={\"A\":\"a\",\"B\":\"b\",\"C\":\"c\",\"D\":\"d\"}\n",
        "my_set={'A','B','C','D'}\n",
        "print(str_list)\n",
        "print(age)\n",
        "print(pi)\n",
        "print(c_num)\n",
        "print(my_list)\n",
        "print(my_tuple)\n",
        "print(my_dict)\n",
        "print(my_set)"
      ],
      "metadata": {
        "id": "3QPOff-FD6t8",
        "outputId": "8fc01be9-3213-43cb-e074-65ecf439f106",
        "colab": {
          "base_uri": "https://localhost:8080/"
        }
      },
      "execution_count": null,
      "outputs": [
        {
          "output_type": "stream",
          "name": "stdout",
          "text": [
            "Welcome to AIML lab\n",
            "18\n",
            "3.14\n",
            "(12+5j)\n",
            "['A', 'B', 'C', 'D']\n",
            "('A', 'B', 'C', 'D')\n",
            "{'A': 'a', 'B': 'b', 'C': 'c', 'D': 'd'}\n",
            "{'D', 'B', 'A', 'C'}\n"
          ]
        }
      ]
    },
    {
      "cell_type": "code",
      "source": [
        "#mathematical operations\n",
        "\n",
        "#multiplication\n",
        "mul=arr1*arr2\n",
        "print(f\"Multiplication:{mul}\")\n",
        "\n",
        "#division\n",
        "div=arr1/arr2\n",
        "print(f\"Division:{div}\")\n",
        "\n",
        "#power\n",
        "power=arr1**2\n",
        "print(f\"Power:{power}\")"
      ],
      "metadata": {
        "id": "UtJJ2mDGGa33",
        "outputId": "9225b997-c7c4-4c9d-dbbf-b3638c87308f",
        "colab": {
          "base_uri": "https://localhost:8080/"
        }
      },
      "execution_count": null,
      "outputs": [
        {
          "output_type": "stream",
          "name": "stdout",
          "text": [
            "Multiplication:[ 2 12 30 56 90]\n",
            "Division:[0.5        0.75       0.83333333 0.875      0.9       ]\n",
            "Power:[ 1  9 25 49 81]\n"
          ]
        }
      ]
    },
    {
      "cell_type": "code",
      "source": [
        "#add 2 numbers\n",
        "text=(f\"Add:{arr1+arr2}\")\n",
        "print(text)"
      ],
      "metadata": {
        "id": "A7nipol4HkHr",
        "outputId": "73ece585-7077-4aea-da6b-9c4b961a0fe6",
        "colab": {
          "base_uri": "https://localhost:8080/"
        }
      },
      "execution_count": null,
      "outputs": [
        {
          "output_type": "stream",
          "name": "stdout",
          "text": [
            "Add:[ 3  7 11 15 19]\n"
          ]
        }
      ]
    },
    {
      "cell_type": "code",
      "source": [
        "#sin,log,log2,exp\n",
        "\n",
        "#sin\n",
        "sin=np.sin(arr1)\n",
        "print(f\"sin:{sin}\")\n",
        "\n",
        "#log\n",
        "log=np.log(arr1)\n",
        "print(f\"log:{log}\")\n",
        "\n",
        "#log2\n",
        "log2=np.log2(arr1)\n",
        "print(f\"log2:{log2}\")\n",
        "\n",
        "#exp\n",
        "exp=np.exp(arr1)\n",
        "print(f\"exp:{exp}\")"
      ],
      "metadata": {
        "id": "rRZsOQ0KH_DC",
        "outputId": "e79b679c-61a6-4f6b-86b8-6c17ae60642b",
        "colab": {
          "base_uri": "https://localhost:8080/"
        }
      },
      "execution_count": null,
      "outputs": [
        {
          "output_type": "stream",
          "name": "stdout",
          "text": [
            "sin:[ 0.84147098  0.14112001 -0.95892427  0.6569866   0.41211849]\n",
            "log:[0.         1.09861229 1.60943791 1.94591015 2.19722458]\n",
            "log2:[0.         1.5849625  2.32192809 2.80735492 3.169925  ]\n",
            "exp:[2.71828183e+00 2.00855369e+01 1.48413159e+02 1.09663316e+03\n",
            " 8.10308393e+03]\n"
          ]
        }
      ]
    },
    {
      "cell_type": "markdown",
      "source": [
        "**Part 2 – Visualization of Data using matplotlib, pyplots Pack-\n",
        "ages**"
      ],
      "metadata": {
        "id": "hlfPWJxNJ5eD"
      }
    },
    {
      "cell_type": "code",
      "source": [
        "import matplotlib.pyplot as plt\n",
        "#data\n",
        "people=['kiran','arun','vijay','varun']\n",
        "age=[25,30,35,40]\n",
        "height=[145,151,165,173]\n",
        "weight=[45,55,65,75]\n",
        "\n",
        "#generate graph\n",
        "plt.scatter(age,height,color='blue')\n",
        "plt.title('Age vs Height')\n",
        "plt.xlabel('Age')\n",
        "plt.ylabel('Height(cm)')\n",
        "plt.show()"
      ],
      "metadata": {
        "id": "68EyMVKeKN0X",
        "outputId": "67b2fa21-789a-489a-dc2c-c93e5cd00b8a",
        "colab": {
          "base_uri": "https://localhost:8080/",
          "height": 472
        }
      },
      "execution_count": null,
      "outputs": [
        {
          "output_type": "display_data",
          "data": {
            "text/plain": [
              "<Figure size 640x480 with 1 Axes>"
            ],
            "image/png": "[encoded data removed]"
          },
          "metadata": {}
        }
      ]
    },
    {
      "cell_type": "code",
      "source": [
        "#scatter plot\n",
        "plt.scatter(age,height,color='blue')\n",
        "plt.title('Age vs Height')\n",
        "plt.xlabel('Age')\n",
        "plt.ylabel('Height(cm)')\n",
        "plt.show()"
      ],
      "metadata": {
        "id": "FFJtkopjLvqc",
        "outputId": "802fc2c8-5fff-4bd7-d7ee-f4aef6e30206",
        "colab": {
          "base_uri": "https://localhost:8080/",
          "height": 472
        }
      },
      "execution_count": null,
      "outputs": [
        {
          "output_type": "display_data",
          "data": {
            "text/plain": [
              "<Figure size 640x480 with 1 Axes>"
            ],
            "image/png": "[encoded data removed]"
          },
          "metadata": {}
        }
      ]
    },
    {
      "cell_type": "code",
      "source": [
        "#bar chart\n",
        "plt.bar(people,weight,color='green')\n",
        "plt.title('Weight of individuals')\n",
        "plt.xlabel('People')\n",
        "plt.ylabel('Weight(kg)')\n",
        "plt.show()"
      ],
      "metadata": {
        "id": "zHSeizCnMCg1",
        "outputId": "437f72b5-7f26-4156-e09a-8b44e022b486",
        "colab": {
          "base_uri": "https://localhost:8080/",
          "height": 472
        }
      },
      "execution_count": null,
      "outputs": [
        {
          "output_type": "display_data",
          "data": {
            "text/plain": [
              "<Figure size 640x480 with 1 Axes>"
            ],
            "image/png": "[encoded data removed]"
          },
          "metadata": {}
        }
      ]
    },
    {
      "cell_type": "code",
      "source": [
        "#histogram\n",
        "plt.hist(age, bins=5, color='red', alpha=0.7)\n",
        "plt.title('Age Distribution')\n",
        "plt.xlabel('Age')\n",
        "plt.ylabel('Frequency')\n",
        "plt.show()"
      ],
      "metadata": {
        "id": "gux3JF1PMYyE",
        "outputId": "179d7879-3194-43db-9868-d5159ef9b2a1",
        "colab": {
          "base_uri": "https://localhost:8080/",
          "height": 472
        }
      },
      "execution_count": null,
      "outputs": [
        {
          "output_type": "display_data",
          "data": {
            "text/plain": [
              "<Figure size 640x480 with 1 Axes>"
            ],
            "image/png": "[encoded data removed]"
          },
          "metadata": {}
        }
      ]
    },
    {
      "cell_type": "markdown",
      "source": [
        "**Explanation and Justification**\n",
        "\n",
        "**Scatter Plot (Age vs Height):**\n",
        "\n",
        "Title: Age vs Height\n",
        "X-axis: Age\n",
        "Y-axis: Height (cm)\n",
        "Explanation: This scatter plot shows the relationship between age and height. As age increases, height also tends to increase.\n",
        "\n",
        "**Bar Chart (Weight of Individuals):**\n",
        "\n",
        "Title: Weight of Individuals\n",
        "X-axis: People\n",
        "Y-axis: Weight (kg)\n",
        "Explanation: This bar chart represents the weight of each individual. It provides a clear comparison of the weights, showing who is the heaviest and who is the lightest.\n",
        "\n",
        "**Histogram (Age Distribution):**\n",
        "\n",
        "Title: Age Distribution\n",
        "X-axis: Age\n",
        "Y-axis: Frequency\n",
        "Explanation: This histogram shows the distribution of ages in the dataset."
      ],
      "metadata": {
        "id": "iA5kG2O4MvCr"
      }
    },
    {
      "cell_type": "markdown",
      "source": [
        "**Part 3 – Access Data from Various Data Sources using builtin Func-\n",
        "tion of Numpy, Pandas**"
      ],
      "metadata": {
        "id": "1rXDwy4wNsJo"
      }
    },
    {
      "cell_type": "code",
      "source": [],
      "metadata": {
        "id": "K8diNBKCN_FS"
      },
      "execution_count": null,
      "outputs": []
    }
  ]
}