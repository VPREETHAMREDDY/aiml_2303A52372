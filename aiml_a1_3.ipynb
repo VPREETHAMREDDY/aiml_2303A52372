{
  "nbformat": 4,
  "nbformat_minor": 0,
  "metadata": {
    "colab": {
      "provenance": [],
      "include_colab_link": true
    },
    "kernelspec": {
      "name": "python3",
      "display_name": "Python 3"
    },
    "language_info": {
      "name": "python"
    }
  },
  "cells": [
    {
      "cell_type": "markdown",
      "metadata": {
        "id": "view-in-github",
        "colab_type": "text"
      },
      "source": [
        "<a href=\"https://colab.research.google.com/github/VPREETHAMREDDY/aiml_2303A52372/blob/main/aiml_a1_3.ipynb\" target=\"_parent\"><img src=\"https://colab.research.google.com/assets/colab-badge.svg\" alt=\"Open In Colab\"/></a>"
      ]
    },
    {
      "cell_type": "code",
      "execution_count": null,
      "metadata": {
        "colab": {
          "base_uri": "https://localhost:8080/"
        },
        "id": "25AXyfJDM4IM",
        "outputId": "d1b5f47a-153a-4878-f0e2-cc55c73afe83"
      },
      "outputs": [
        {
          "output_type": "stream",
          "name": "stdout",
          "text": [
            "    sid           sname   course       ph.no\n",
            "0  2058  MEGHA AKANKSHA     AIML  2222222222\n",
            "1  2474         SRINIJA     AIML  1111111111\n",
            "2  2051  SRISHANTH RAJU     AIML  1234567890\n",
            "3  1151       SHIVAMANI     AIML  8485459950\n",
            "4  1455         SANJANA      CSE  3333333333\n",
            "5  1745    AKSHAY PATEL      CSE  4444444444\n",
            "6  8013    SATYA SAKETH  CSE IEP  6666666666\n",
            "    sid           sname   course       ph.no\n",
            "0  2058  MEGHA AKANKSHA     AIML  2222222222\n",
            "1  2474         SRINIJA     AIML  1111111111\n",
            "2  2051  SRISHANTH RAJU     AIML  1234567890\n",
            "3  1151       SHIVAMANI     AIML  8485459950\n",
            "4  1455         SANJANA      CSE  3333333333\n",
            "5  1745    AKSHAY PATEL      CSE  4444444444\n",
            "6  8013    SATYA SAKETH  CSE IEP  6666666666\n",
            "    sid           sname   course       ph.no\n",
            "0  2058  MEGHA AKANKSHA     AIML  2222222222\n",
            "1  2474         SRINIJA     AIML  1111111111\n",
            "2  2051  SRISHANTH RAJU     AIML  1234567890\n",
            "3  1151       SHIVAMANI     AIML  8485459950\n",
            "4  1455         SANJANA      CSE  3333333333\n",
            "5  1745    AKSHAY PATEL      CSE  4444444444\n",
            "6  8013    SATYA SAKETH  CSE IEP  6666666666\n"
          ]
        }
      ],
      "source": [
        "import pandas as pd\n",
        "df=pd.read_excel(\"student.xlsx\")\n",
        "print(df)\n",
        "df1=pd.read_csv(\"student.csv\")\n",
        "print(df1)\n",
        "df2=pd.read_table(\"student.tsv.txt\")\n",
        "print(df2)"
      ]
    }
  ]
}